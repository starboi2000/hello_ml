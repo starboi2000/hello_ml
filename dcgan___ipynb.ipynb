{
  "nbformat": 4,
  "nbformat_minor": 0,
  "metadata": {
    "kernelspec": {
      "name": "python3",
      "display_name": "Python 3"
    },
    "colab": {
      "name": "dcgan__.ipynb.ipynb",
      "provenance": [],
      "collapsed_sections": []
    },
    "accelerator": "GPU"
  },
  "cells": [
    {
      "cell_type": "markdown",
      "metadata": {
        "id": "cV8lQCUTrNLh"
      },
      "source": [
        "# DC GAN"
      ]
    },
    {
      "cell_type": "markdown",
      "metadata": {
        "id": "MhY0W2hMrNLl"
      },
      "source": [
        "## Importing Libraries"
      ]
    },
    {
      "cell_type": "code",
      "metadata": {
        "id": "T5ks24W1rNLm"
      },
      "source": [
        "import tensorflow as tf\n",
        "import tensorflow_datasets as tfds\n",
        "import glob\n",
        "import imageio\n",
        "import matplotlib.pyplot as plt\n",
        "import numpy as np\n",
        "import os\n",
        "import PIL\n",
        "from PIL import Image\n",
        "from tensorflow.keras import layers\n",
        "import time\n",
        "import cv2\n",
        "\n",
        "from IPython import display"
      ],
      "execution_count": 1,
      "outputs": []
    },
    {
      "cell_type": "markdown",
      "metadata": {
        "id": "1hCOPZ9jrNLn"
      },
      "source": [
        "## Organising Dataset"
      ]
    },
    {
      "cell_type": "code",
      "metadata": {
        "colab": {
          "base_uri": "https://localhost:8080/"
        },
        "id": "ju7MbGU4xRsh",
        "outputId": "a4b11609-bef3-4f04-cf71-38a53abb819d"
      },
      "source": [
        "try:\r\n",
        "    from google.colab import drive\r\n",
        "    drive.mount('/content/drive', force_remount=True)\r\n",
        "    COLAB = True\r\n",
        "    print(\"Note: using Google CoLab\")\r\n",
        "    %tensorflow_version 2.x\r\n",
        "except:\r\n",
        "    print(\"Note: not using Google CoLab\")\r\n",
        "    COLAB = False"
      ],
      "execution_count": 2,
      "outputs": [
        {
          "output_type": "stream",
          "text": [
            "Mounted at /content/drive\n",
            "Note: using Google CoLab\n"
          ],
          "name": "stdout"
        }
      ]
    },
    {
      "cell_type": "code",
      "metadata": {
        "colab": {
          "base_uri": "https://localhost:8080/"
        },
        "id": "bN5bZeRr1mec",
        "outputId": "05e5e2de-5f05-4be5-c4da-27a3bf2c739a"
      },
      "source": [
        "device_name = tf.test.gpu_device_name()\r\n",
        "if device_name != '/device:GPU:0':\r\n",
        "  raise SystemError('GPU device not found')\r\n",
        "print('Found GPU at: {}'.format(device_name))"
      ],
      "execution_count": 4,
      "outputs": [
        {
          "output_type": "stream",
          "text": [
            "Found GPU at: /device:GPU:0\n"
          ],
          "name": "stdout"
        }
      ]
    },
    {
      "cell_type": "code",
      "metadata": {
        "colab": {
          "base_uri": "https://localhost:8080/"
        },
        "id": "9LcHQIMRrNLn",
        "outputId": "3adaae0f-8d7c-402e-e7d0-b57243b39bf0"
      },
      "source": [
        "dir_data = \"/content/drive/My Drive/COVID\"\n",
        "Ntrain = 1500\n",
        "nm_imgs = np.sort(os.listdir(dir_data))\n",
        "## name of the jpg files for training set\n",
        "nm_imgs_train = nm_imgs[:Ntrain]\n",
        "\n",
        "img_shape = (62, 62)\n",
        "\n",
        "def get_npdata(nm_imgs_train):\n",
        "    X_train = []\n",
        "    for i, myid in enumerate(nm_imgs_train):\n",
        "        image = tf.keras.preprocessing.image.load_img(dir_data + \"/\" + myid,\n",
        "                         target_size=img_shape[:2])\n",
        "        image = (tf.keras.preprocessing.image.img_to_array(image) - 127.5) / 127.5\n",
        "        X_train.append(image)\n",
        "        display.clear_output(wait=True)\n",
        "        print(i+1)\n",
        "        \n",
        "    X_train = np.array(X_train)\n",
        "    np.save('covid_a_numpy', X_train)\n",
        "    X_train = []\n",
        "        \n",
        "get_npdata(nm_imgs_train)"
      ],
      "execution_count": 6,
      "outputs": [
        {
          "output_type": "stream",
          "text": [
            "1500\n"
          ],
          "name": "stdout"
        }
      ]
    },
    {
      "cell_type": "code",
      "metadata": {
        "id": "Cxa4AJJrrNLo"
      },
      "source": [
        "train_dataset = np.load('covid_a_numpy.npy')"
      ],
      "execution_count": 8,
      "outputs": []
    },
    {
      "cell_type": "code",
      "metadata": {
        "colab": {
          "base_uri": "https://localhost:8080/"
        },
        "id": "g6XtuLQDrNLp",
        "outputId": "b2e10c43-4ff0-48e7-8e93-0703fe10d5ec"
      },
      "source": [
        "train_dataset.shape"
      ],
      "execution_count": 9,
      "outputs": [
        {
          "output_type": "execute_result",
          "data": {
            "text/plain": [
              "(1500, 62, 62, 3)"
            ]
          },
          "metadata": {
            "tags": []
          },
          "execution_count": 9
        }
      ]
    },
    {
      "cell_type": "code",
      "metadata": {
        "id": "toX6lhYkrNLq"
      },
      "source": [
        "BUFFER_SIZE = 1500\n",
        "BATCH_SIZE = 32"
      ],
      "execution_count": 10,
      "outputs": []
    },
    {
      "cell_type": "code",
      "metadata": {
        "id": "AfzV12eprNLq"
      },
      "source": [
        "train_dataset = tf.data.Dataset.from_tensor_slices(train_dataset).shuffle(BUFFER_SIZE).batch(BATCH_SIZE)"
      ],
      "execution_count": 11,
      "outputs": []
    },
    {
      "cell_type": "markdown",
      "metadata": {
        "id": "hkBdDMR1rNLq"
      },
      "source": [
        "## Generator"
      ]
    },
    {
      "cell_type": "code",
      "metadata": {
        "id": "VPu9BoCerNLr"
      },
      "source": [
        "class Generator(object):\n",
        "    def __init__(self):\n",
        "        self.model = self.__make_generator_model()\n",
        "        \n",
        "    def __make_generator_model(self):\n",
        "        model = tf.keras.Sequential()\n",
        "        model.add(layers.Dense(4*4*1024, use_bias=False, input_shape=(100,)))\n",
        "        model.add(layers.BatchNormalization())\n",
        "        model.add(layers.LeakyReLU())\n",
        "\n",
        "        model.add(layers.Reshape((4, 4, 1024)))\n",
        "        assert model.output_shape == (None, 4, 4, 1024) # Note: None is the batch size\n",
        "\n",
        "        #layers.Conv2DTranspose(no_of_filters, (kernel_size_x, kernel_size_y), strides=(stride_x, stride_y), padding='same and valid are not the same', use_bias=False)\n",
        "        model.add(layers.Conv2DTranspose(1024, (4, 4), strides=(1, 1), padding='same', use_bias=False))\n",
        "        assert model.output_shape == (None, 4, 4, 1024)\n",
        "        model.add(layers.BatchNormalization())\n",
        "        model.add(layers.LeakyReLU())\n",
        "\n",
        "        model.add(layers.Conv2DTranspose(512, (4, 4), strides=(2, 2), padding='same', use_bias=False))\n",
        "        assert model.output_shape == (None, 8, 8, 512)\n",
        "        model.add(layers.BatchNormalization())\n",
        "        model.add(layers.LeakyReLU())\n",
        "\n",
        "        model.add(layers.Conv2DTranspose(256, (4, 4), strides=(2, 2), padding='same', use_bias=False))\n",
        "        assert model.output_shape == (None, 16, 16, 256)\n",
        "        model.add(layers.BatchNormalization())\n",
        "        model.add(layers.LeakyReLU())\n",
        "\n",
        "        model.add(layers.Conv2DTranspose(128, (4, 4), strides=(2, 2), padding='same', use_bias=False))\n",
        "        assert model.output_shape == (None, 32, 32, 128)\n",
        "        model.add(layers.BatchNormalization())\n",
        "        model.add(layers.LeakyReLU())\n",
        "\n",
        "        model.add(layers.Conv2DTranspose(3, (4, 4), strides=(2, 2), padding='same', use_bias=False, activation='tanh'))\n",
        "        assert model.output_shape == (None, 64, 64, 3)\n",
        "        '''\n",
        "        model.add(layers.Conv2DTranspose(3, (4, 4), strides=(2, 2), padding='same', use_bias=False, activation='tanh'))\n",
        "        assert model.output_shape == (None, 128, 128, 3)\n",
        "        '''\n",
        "\n",
        "        return model\n",
        "    \n",
        "    def predict(self, x, training=True):\n",
        "        return self.model(x, training)"
      ],
      "execution_count": 12,
      "outputs": []
    },
    {
      "cell_type": "code",
      "metadata": {
        "colab": {
          "base_uri": "https://localhost:8080/"
        },
        "id": "hNxoDoyqrNLs",
        "outputId": "a87d3de6-14aa-4ebe-9cc3-ea30f382069d"
      },
      "source": [
        "generator = Generator()\n",
        "generator.model.summary()"
      ],
      "execution_count": 13,
      "outputs": [
        {
          "output_type": "stream",
          "text": [
            "Model: \"sequential\"\n",
            "_________________________________________________________________\n",
            "Layer (type)                 Output Shape              Param #   \n",
            "=================================================================\n",
            "dense (Dense)                (None, 16384)             1638400   \n",
            "_________________________________________________________________\n",
            "batch_normalization (BatchNo (None, 16384)             65536     \n",
            "_________________________________________________________________\n",
            "leaky_re_lu (LeakyReLU)      (None, 16384)             0         \n",
            "_________________________________________________________________\n",
            "reshape (Reshape)            (None, 4, 4, 1024)        0         \n",
            "_________________________________________________________________\n",
            "conv2d_transpose (Conv2DTran (None, 4, 4, 1024)        16777216  \n",
            "_________________________________________________________________\n",
            "batch_normalization_1 (Batch (None, 4, 4, 1024)        4096      \n",
            "_________________________________________________________________\n",
            "leaky_re_lu_1 (LeakyReLU)    (None, 4, 4, 1024)        0         \n",
            "_________________________________________________________________\n",
            "conv2d_transpose_1 (Conv2DTr (None, 8, 8, 512)         8388608   \n",
            "_________________________________________________________________\n",
            "batch_normalization_2 (Batch (None, 8, 8, 512)         2048      \n",
            "_________________________________________________________________\n",
            "leaky_re_lu_2 (LeakyReLU)    (None, 8, 8, 512)         0         \n",
            "_________________________________________________________________\n",
            "conv2d_transpose_2 (Conv2DTr (None, 16, 16, 256)       2097152   \n",
            "_________________________________________________________________\n",
            "batch_normalization_3 (Batch (None, 16, 16, 256)       1024      \n",
            "_________________________________________________________________\n",
            "leaky_re_lu_3 (LeakyReLU)    (None, 16, 16, 256)       0         \n",
            "_________________________________________________________________\n",
            "conv2d_transpose_3 (Conv2DTr (None, 32, 32, 128)       524288    \n",
            "_________________________________________________________________\n",
            "batch_normalization_4 (Batch (None, 32, 32, 128)       512       \n",
            "_________________________________________________________________\n",
            "leaky_re_lu_4 (LeakyReLU)    (None, 32, 32, 128)       0         \n",
            "_________________________________________________________________\n",
            "conv2d_transpose_4 (Conv2DTr (None, 64, 64, 3)         6144      \n",
            "=================================================================\n",
            "Total params: 29,505,024\n",
            "Trainable params: 29,468,416\n",
            "Non-trainable params: 36,608\n",
            "_________________________________________________________________\n"
          ],
          "name": "stdout"
        }
      ]
    },
    {
      "cell_type": "code",
      "metadata": {
        "colab": {
          "base_uri": "https://localhost:8080/",
          "height": 285
        },
        "id": "iXrSFJv5rNLt",
        "outputId": "1c75287a-5b3c-460f-939e-9bc607079a51"
      },
      "source": [
        "noise = tf.random.normal([1, 100])      # noise\n",
        "generated_image = generator.predict(noise, training=False)\n",
        "\n",
        "plt.imshow(np.uint8(generated_image[0, :, :, :]))    # generated image from noise"
      ],
      "execution_count": 14,
      "outputs": [
        {
          "output_type": "execute_result",
          "data": {
            "text/plain": [
              "<matplotlib.image.AxesImage at 0x7ff2202fa210>"
            ]
          },
          "metadata": {
            "tags": []
          },
          "execution_count": 14
        },
        {
          "output_type": "display_data",
          "data": {
            "image/png": "[encoded data removed]",
            "text/plain": [
              "<Figure size 432x288 with 1 Axes>"
            ]
          },
          "metadata": {
            "tags": [],
            "needs_background": "light"
          }
        }
      ]
    },
    {
      "cell_type": "markdown",
      "metadata": {
        "id": "TmCJ0IxtrNLt"
      },
      "source": [
        "## Discriminator"
      ]
    },
    {
      "cell_type": "code",
      "metadata": {
        "id": "qa00_taerNLt"
      },
      "source": [
        "class Discriminator(object):\n",
        "    def __init__(self):\n",
        "        self.model = self.__make_discriminator_model()\n",
        "    \n",
        "    def __make_discriminator_model(self):\n",
        "        model = tf.keras.Sequential()\n",
        "        model.add(layers.Conv2D(128, (4, 4), strides=(2, 2), padding='same',\n",
        "                                         input_shape=[64, 64, 3]))\n",
        "        model.add(layers.LeakyReLU())\n",
        "        model.add(layers.Dropout(0.3))\n",
        "\n",
        "        model.add(layers.Conv2D(256, (4, 4), strides=(2, 2), padding='same'))\n",
        "        model.add(layers.LeakyReLU())\n",
        "        model.add(layers.Dropout(0.3))\n",
        "\n",
        "        model.add(layers.Conv2D(512, (4, 4), strides=(2, 2), padding='same'))\n",
        "        model.add(layers.LeakyReLU())\n",
        "        model.add(layers.Dropout(0.3))\n",
        "\n",
        "        model.add(layers.Conv2D(1024, (4, 4), strides=(2, 2), padding='same'))\n",
        "        model.add(layers.LeakyReLU())\n",
        "        model.add(layers.Dropout(0.3))\n",
        "        '''\n",
        "        model.add(layers.Conv2D(1024, (4, 4), strides=(2, 2), padding='same'))\n",
        "        model.add(layers.LeakyReLU())\n",
        "        model.add(layers.Dropout(0.3))\n",
        "        '''\n",
        "        model.add(layers.Flatten())\n",
        "        model.add(layers.Dense(1))\n",
        "\n",
        "        return model\n",
        "    \n",
        "    def predict(self, x, training=True):\n",
        "        return self.model(x, training)"
      ],
      "execution_count": 15,
      "outputs": []
    },
    {
      "cell_type": "code",
      "metadata": {
        "colab": {
          "base_uri": "https://localhost:8080/"
        },
        "id": "cFdMSBm4rNLu",
        "outputId": "c9d1ee8b-af1f-44ed-b16e-a82e46fac807"
      },
      "source": [
        "discriminator = Discriminator()\n",
        "discriminator.model.summary()"
      ],
      "execution_count": 16,
      "outputs": [
        {
          "output_type": "stream",
          "text": [
            "Model: \"sequential_1\"\n",
            "_________________________________________________________________\n",
            "Layer (type)                 Output Shape              Param #   \n",
            "=================================================================\n",
            "conv2d (Conv2D)              (None, 32, 32, 128)       6272      \n",
            "_________________________________________________________________\n",
            "leaky_re_lu_5 (LeakyReLU)    (None, 32, 32, 128)       0         \n",
            "_________________________________________________________________\n",
            "dropout (Dropout)            (None, 32, 32, 128)       0         \n",
            "_________________________________________________________________\n",
            "conv2d_1 (Conv2D)            (None, 16, 16, 256)       524544    \n",
            "_________________________________________________________________\n",
            "leaky_re_lu_6 (LeakyReLU)    (None, 16, 16, 256)       0         \n",
            "_________________________________________________________________\n",
            "dropout_1 (Dropout)          (None, 16, 16, 256)       0         \n",
            "_________________________________________________________________\n",
            "conv2d_2 (Conv2D)            (None, 8, 8, 512)         2097664   \n",
            "_________________________________________________________________\n",
            "leaky_re_lu_7 (LeakyReLU)    (None, 8, 8, 512)         0         \n",
            "_________________________________________________________________\n",
            "dropout_2 (Dropout)          (None, 8, 8, 512)         0         \n",
            "_________________________________________________________________\n",
            "conv2d_3 (Conv2D)            (None, 4, 4, 1024)        8389632   \n",
            "_________________________________________________________________\n",
            "leaky_re_lu_8 (LeakyReLU)    (None, 4, 4, 1024)        0         \n",
            "_________________________________________________________________\n",
            "dropout_3 (Dropout)          (None, 4, 4, 1024)        0         \n",
            "_________________________________________________________________\n",
            "flatten (Flatten)            (None, 16384)             0         \n",
            "_________________________________________________________________\n",
            "dense_1 (Dense)              (None, 1)                 16385     \n",
            "=================================================================\n",
            "Total params: 11,034,497\n",
            "Trainable params: 11,034,497\n",
            "Non-trainable params: 0\n",
            "_________________________________________________________________\n"
          ],
          "name": "stdout"
        }
      ]
    },
    {
      "cell_type": "code",
      "metadata": {
        "colab": {
          "base_uri": "https://localhost:8080/"
        },
        "id": "MKE47irMrNLv",
        "outputId": "393bd8ab-defe-4512-8d4d-4b7e14824af2"
      },
      "source": [
        "decision = discriminator.predict(generated_image, training=False)       # verdict of discriminator\n",
        "print(decision)"
      ],
      "execution_count": 17,
      "outputs": [
        {
          "output_type": "stream",
          "text": [
            "tf.Tensor([[-4.4232096e-05]], shape=(1, 1), dtype=float32)\n"
          ],
          "name": "stdout"
        }
      ]
    },
    {
      "cell_type": "markdown",
      "metadata": {
        "id": "_W3IQLYJrNLv"
      },
      "source": [
        "## Losses"
      ]
    },
    {
      "cell_type": "code",
      "metadata": {
        "id": "DvD-Eg7OrNLv"
      },
      "source": [
        "cross_entropy = tf.keras.losses.BinaryCrossentropy(from_logits=True)"
      ],
      "execution_count": 18,
      "outputs": []
    },
    {
      "cell_type": "code",
      "metadata": {
        "id": "8sHh_nX9rNLw"
      },
      "source": [
        "def discriminator_loss(real_output, fake_output):\n",
        "    real_loss = cross_entropy(tf.ones_like(real_output), real_output)\n",
        "    fake_loss = cross_entropy(tf.zeros_like(fake_output), fake_output)\n",
        "    total_loss = real_loss + fake_loss\n",
        "    return total_loss\n",
        "    #return tf.reduce_mean(real_output - fake_output)    wgan"
      ],
      "execution_count": 19,
      "outputs": []
    },
    {
      "cell_type": "code",
      "metadata": {
        "id": "VNrbca64rNLw"
      },
      "source": [
        "def generator_loss(fake_output):\n",
        "    return cross_entropy(tf.ones_like(fake_output), fake_output)\n",
        "    #return tf.reduce_mean(fake_output)    wgan"
      ],
      "execution_count": 20,
      "outputs": []
    },
    {
      "cell_type": "markdown",
      "metadata": {
        "id": "FGIRTqaPrNLx"
      },
      "source": [
        "## Optimizers"
      ]
    },
    {
      "cell_type": "code",
      "metadata": {
        "id": "T9YcA0FRrNLx"
      },
      "source": [
        "generator_optimizer = tf.keras.optimizers.Adam(1e-4)\n",
        "discriminator_optimizer = tf.keras.optimizers.Adam(1e-4)"
      ],
      "execution_count": 21,
      "outputs": []
    },
    {
      "cell_type": "code",
      "metadata": {
        "id": "MK8-y_XirNLy"
      },
      "source": [
        "checkpoint_dir = './training_checkpoints'\n",
        "checkpoint_prefix = os.path.join(checkpoint_dir, \"ckpt\")\n",
        "checkpoint = tf.train.Checkpoint(generator_optimizer=generator_optimizer,\n",
        "                                 discriminator_optimizer=discriminator_optimizer,\n",
        "                                 generator=generator.model,\n",
        "                                 discriminator=discriminator.model)"
      ],
      "execution_count": 22,
      "outputs": []
    },
    {
      "cell_type": "markdown",
      "metadata": {
        "id": "dvHjvrPxrNLy"
      },
      "source": [
        "## Training"
      ]
    },
    {
      "cell_type": "code",
      "metadata": {
        "id": "RvNTGP0WrNLz"
      },
      "source": [
        "EPOCHS = 100\n",
        "noise_dim = 100\n",
        "num_examples_to_generate = 4\n",
        "\n",
        "# We will reuse this seed overtime (so it's easier)\n",
        "# to visualize progress in the animated GIF)\n",
        "seed = tf.random.normal([num_examples_to_generate, noise_dim])"
      ],
      "execution_count": 23,
      "outputs": []
    },
    {
      "cell_type": "code",
      "metadata": {
        "id": "QFGLvRxxrNLz"
      },
      "source": [
        "@tf.function\n",
        "def train_step(images):\n",
        "    noise = tf.random.normal([BATCH_SIZE, noise_dim])\n",
        "\n",
        "    with tf.GradientTape() as gen_tape, tf.GradientTape() as disc_tape:\n",
        "        generated_images = generator.predict(noise, training=True)\n",
        "\n",
        "        real_output = discriminator.predict(images, training=True)\n",
        "        fake_output = discriminator.predict(generated_images, training=True)\n",
        "\n",
        "        gen_loss = generator_loss(fake_output)\n",
        "        disc_loss = discriminator_loss(real_output, fake_output)\n",
        "\n",
        "    gradients_of_generator = gen_tape.gradient(gen_loss, generator.model.trainable_variables)\n",
        "    gradients_of_discriminator = disc_tape.gradient(disc_loss, discriminator.model.trainable_variables)\n",
        "\n",
        "    generator_optimizer.apply_gradients(zip(gradients_of_generator, generator.model.trainable_variables))\n",
        "    discriminator_optimizer.apply_gradients(zip(gradients_of_discriminator, discriminator.model.trainable_variables))"
      ],
      "execution_count": 24,
      "outputs": []
    },
    {
      "cell_type": "code",
      "metadata": {
        "id": "tzX8OsW-rNL0"
      },
      "source": [
        "def train(dataset, epochs):\n",
        "    for epoch in range(15, epochs):\n",
        "        start = time.time()\n",
        "\n",
        "        for image_batch in dataset:\n",
        "            train_step(image_batch)\n",
        "\n",
        "        # Produce images for the GIF as we go\n",
        "        display.clear_output(wait=True)\n",
        "        generate_and_save_images(generator.model,\n",
        "                                epoch + 1,\n",
        "                                seed)\n",
        "\n",
        "        # Save the model every 15 epochs\n",
        "        if (epoch + 1) % 5 == 0:\n",
        "            checkpoint.save(file_prefix = checkpoint_prefix)\n",
        "\n",
        "        print ('Time for epoch {} is {} sec'.format(epoch + 1, time.time()-start))\n",
        "\n",
        "    # Generate after the final epoch\n",
        "    display.clear_output(wait=True)\n",
        "    generate_and_save_images(generator.model,\n",
        "                            epochs,\n",
        "                            seed)"
      ],
      "execution_count": 25,
      "outputs": []
    },
    {
      "cell_type": "code",
      "metadata": {
        "id": "DDfx6jrVrNL1"
      },
      "source": [
        "def generate_and_save_images(model, epoch, test_input):\n",
        "    # Notice `training` is set to False.\n",
        "    # This is so all layers run in inference mode (batchnorm).\n",
        "    predictions = model(test_input, training=False)\n",
        "\n",
        "    fig=plt.figure(figsize=(16, 16))   \n",
        "    columns = 4\n",
        "    rows = 1\n",
        "\n",
        "    for i in range(predictions.shape[0]):\n",
        "        fig.add_subplot(rows, columns, i+1)\n",
        "        plt.imshow(np.uint8(predictions[i, :, :, :] * 127.5 + 127.5))\n",
        "\n",
        "    plt.savefig('image_at_epoch_{:04d}.png'.format(epoch))\n",
        "    plt.show()"
      ],
      "execution_count": 26,
      "outputs": []
    },
    {
      "cell_type": "code",
      "metadata": {
        "colab": {
          "base_uri": "https://localhost:8080/"
        },
        "id": "ofS3lgh5rNL2",
        "outputId": "bfe24d98-4efb-487c-e865-6a7e01d41d70"
      },
      "source": [
        "checkpoint.restore(tf.train.latest_checkpoint(checkpoint_dir))"
      ],
      "execution_count": 27,
      "outputs": [
        {
          "output_type": "execute_result",
          "data": {
            "text/plain": [
              "<tensorflow.python.training.tracking.util.InitializationOnlyStatus at 0x7ff22008f510>"
            ]
          },
          "metadata": {
            "tags": []
          },
          "execution_count": 27
        }
      ]
    },
    {
      "cell_type": "code",
      "metadata": {
        "colab": {
          "base_uri": "https://localhost:8080/",
          "height": 244
        },
        "id": "1n5EYTMDrNL3",
        "outputId": "66957de5-5ccf-4cfe-f57a-26b2f440dca6"
      },
      "source": [
        "train(train_dataset, EPOCHS)"
      ],
      "execution_count": 28,
      "outputs": [
        {
          "output_type": "display_data",
          "data": {
            "image/png": "[encoded data removed]",
            "text/plain": [
              "<Figure size 1152x1152 with 4 Axes>"
            ]
          },
          "metadata": {
            "tags": [],
            "needs_background": "light"
          }
        }
      ]
    },
    {
      "cell_type": "code",
      "metadata": {
        "id": "atLkKOEkrNL3"
      },
      "source": [
        "generator.model.save('models/generator-62x62.h5')"
      ],
      "execution_count": null,
      "outputs": []
    },
    {
      "cell_type": "markdown",
      "metadata": {
        "id": "kw3a_IrprNL4"
      },
      "source": [
        "## Test and GIF"
      ]
    },
    {
      "cell_type": "code",
      "metadata": {
        "id": "veQlp1f4rNL4",
        "outputId": "b4b19696-3036-4ae8-c692-730ad13cb67b"
      },
      "source": [
        "generator_test = tf.keras.models.load_model('models/generator-62x62.h5')"
      ],
      "execution_count": null,
      "outputs": [
        {
          "output_type": "stream",
          "text": [
            "WARNING:tensorflow:No training configuration found in save file: the model was *not* compiled. Compile it manually.\n"
          ],
          "name": "stdout"
        }
      ]
    },
    {
      "cell_type": "code",
      "metadata": {
        "id": "_XZnSDh3rNL5"
      },
      "source": [
        "anim_file = 'covid.gif'\n",
        "\n",
        "with imageio.get_writer(anim_file, mode='I') as writer:\n",
        "    filenames = glob.glob('image*.png')\n",
        "    filenames = sorted(filenames)\n",
        "    last = -1\n",
        "    for i,filename in enumerate(filenames):\n",
        "        frame = 2*(i**0.5)\n",
        "        if round(frame) > round(last):\n",
        "            last = frame\n",
        "        else:\n",
        "            continue\n",
        "        image = imageio.imread(filename)\n",
        "        writer.append_data(image)\n",
        "    image = imageio.imread(filename)\n",
        "    writer.append_data(image)\n",
        "\n",
        "import IPython\n",
        "if IPython.version_info > (6,2,0,''):\n",
        "    display.Image(filename=anim_file)"
      ],
      "execution_count": null,
      "outputs": []
    },
    {
      "cell_type": "markdown",
      "metadata": {
        "id": "tDqxcDoirNL5"
      },
      "source": [
        "## Test with random noise"
      ]
    },
    {
      "cell_type": "code",
      "metadata": {
        "id": "0HevIy_5rNL7"
      },
      "source": [
        "noise = tf.random.normal([1, 100])\n",
        "generated_test_image = generator_test.predict(noise)[0]#.numpy()\n",
        "plt.imshow(np.uint8((generated_test_image * 127.5) + 127.5))"
      ],
      "execution_count": null,
      "outputs": []
    },
    {
      "cell_type": "markdown",
      "metadata": {
        "id": "hTnJbJzbrNL8"
      },
      "source": [
        "## Saving collage"
      ]
    },
    {
      "cell_type": "code",
      "metadata": {
        "id": "OMM-ReZUrNL8"
      },
      "source": [
        "images_per = []\n",
        "images = []\n",
        "for i in range(25):\n",
        "    latent_space = tf.random.normal([1, 100])\n",
        "    generated_test_image = generator_test.predict(latent_space)[0]#.numpy()\n",
        "    generated_test_image = np.uint8((generated_test_image * 127.5) + 127.5)\n",
        "    images_per.append(generated_test_image)\n",
        "    if len(images_per) == 5:\n",
        "        images.append(images_per)\n",
        "        images_per = []"
      ],
      "execution_count": null,
      "outputs": []
    },
    {
      "cell_type": "code",
      "metadata": {
        "id": "TQdh32H4rNL9"
      },
      "source": [
        "collage = np.hstack((i for i in images[0]))\n",
        "for i in range(1, len(images)):\n",
        "    horizontal = images[i][0]\n",
        "    for j in range(1, len(images[i])):\n",
        "        horizontal = np.hstack((horizontal, images[i][j]))\n",
        "    collage = np.vstack((collage, horizontal))\n",
        "\n",
        "imgs_comb = PIL.Image.fromarray(collage)\n",
        "imgs_comb.save('covid_collage.jpg' )"
      ],
      "execution_count": null,
      "outputs": []
    },
    {
      "cell_type": "code",
      "metadata": {
        "id": "pAPbPlq8rNL9"
      },
      "source": [],
      "execution_count": null,
      "outputs": []
    }
  ]
}